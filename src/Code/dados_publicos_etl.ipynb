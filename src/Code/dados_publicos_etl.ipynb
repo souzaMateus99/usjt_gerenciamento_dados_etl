{
 "cells": [
  {
   "cell_type": "markdown",
   "metadata": {},
   "source": [
    "## Integrantes do grupo:\n",
    "\n",
    "**(Nome do aluno) - (R.A)**"
   ]
  },
  {
   "cell_type": "markdown",
   "metadata": {},
   "source": [
    "Luiz Fernando Ferreira Berber - 817123421\n",
    "\n",
    "Lucas Alves de Sousa - 817116864\n",
    "\n",
    "Matheus Henrique Silva Paiva - 817123241 \n",
    "\n",
    "Mateus Sampaio de Souza - 817123420\n",
    "\n",
    "Pedro Jacó Cunha Mesquita - 817124121"
   ]
  }
 ],
 "metadata": {
  "kernelspec": {
   "display_name": "Python 3",
   "language": "python",
   "name": "python3"
  },
  "language_info": {
   "codemirror_mode": {
    "name": "ipython",
    "version": 3
   },
   "file_extension": ".py",
   "mimetype": "text/x-python",
   "name": "python",
   "nbconvert_exporter": "python",
   "pygments_lexer": "ipython3",
   "version": "3.8.2"
  }
 },
 "nbformat": 4,
 "nbformat_minor": 4
}
