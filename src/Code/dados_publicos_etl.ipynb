{
 "cells": [
  {
   "cell_type": "markdown",
   "metadata": {},
   "source": [
    "## Integrantes do grupo:\n",
    "\n",
    "**(Nome do aluno) - (R.A)**"
   ]
  },
  {
   "cell_type": "markdown",
   "metadata": {},
   "source": [
    "Luiz Fernando Ferreira Berber - 817123421\n",
    "\n",
    "Lucas Alves de Sousa - 817116864\n",
    "\n",
    "Matheus Henrique Silva Paiva - 817123241 \n",
    "\n",
    "Mateus Sampaio de Souza - 817123420\n",
    "\n",
    "Pedro Jacó Cunha Mesquita - 817124121"
   ]
  },
  {
   "cell_type": "code",
   "execution_count": 1,
   "metadata": {
    "scrolled": false
   },
   "outputs": [
    {
     "name": "stdout",
     "output_type": "stream",
     "text": [
      "Requirement already satisfied: numpy in c:\\program files (x86)\\python38-32\\lib\\site-packages (1.18.3)\n",
      "Requirement already satisfied: pandas in c:\\program files (x86)\\python38-32\\lib\\site-packages (1.0.3)\n",
      "Requirement already satisfied: numpy>=1.13.3 in c:\\program files (x86)\\python38-32\\lib\\site-packages (from pandas) (1.18.3)\n",
      "Requirement already satisfied: pytz>=2017.2 in c:\\program files (x86)\\python38-32\\lib\\site-packages (from pandas) (2019.3)\n",
      "Requirement already satisfied: python-dateutil>=2.6.1 in c:\\program files (x86)\\python38-32\\lib\\site-packages (from pandas) (2.8.1)\n",
      "Requirement already satisfied: six>=1.5 in c:\\program files (x86)\\python38-32\\lib\\site-packages (from python-dateutil>=2.6.1->pandas) (1.14.0)\n",
      "Requirement already satisfied: regex in c:\\program files (x86)\\python38-32\\lib\\site-packages (2020.4.4)\n",
      "Requirement already satisfied: mysql-connector-python in c:\\program files (x86)\\python38-32\\lib\\site-packages (8.0.19)\n",
      "Requirement already satisfied: protobuf==3.6.1 in c:\\program files (x86)\\python38-32\\lib\\site-packages (from mysql-connector-python) (3.6.1)\n",
      "Requirement already satisfied: dnspython==1.16.0 in c:\\program files (x86)\\python38-32\\lib\\site-packages (from mysql-connector-python) (1.16.0)\n",
      "Requirement already satisfied: six>=1.9 in c:\\program files (x86)\\python38-32\\lib\\site-packages (from protobuf==3.6.1->mysql-connector-python) (1.14.0)\n",
      "Requirement already satisfied: setuptools in c:\\program files (x86)\\python38-32\\lib\\site-packages (from protobuf==3.6.1->mysql-connector-python) (41.2.0)\n"
     ]
    }
   ],
   "source": [
    "!pip install numpy\n",
    "!pip install pandas\n",
    "!pip install regex\n",
    "!pip install mysql-connector-python"
   ]
  },
  {
   "cell_type": "code",
   "execution_count": 2,
   "metadata": {},
   "outputs": [],
   "source": [
    "import numpy as np\n",
    "import pandas as pd\n",
    "import mysql.connector\n",
    "import regex\n",
    "\n",
    "from mysql.connector import Error\n",
    "from pathlib import Path"
   ]
  },
  {
   "cell_type": "code",
   "execution_count": 3,
   "metadata": {},
   "outputs": [],
   "source": [
    "def get_files_from_path(filepath):\n",
    "    path = Path(filepath)\n",
    "    files = []\n",
    "\n",
    "    for childs in path.iterdir():\n",
    "        if childs.is_file(): files.append(childs.parts[len(childs.parts) - 1])\n",
    "\n",
    "    return files"
   ]
  },
  {
   "cell_type": "code",
   "execution_count": 4,
   "metadata": {},
   "outputs": [],
   "source": [
    "def create_connection(host_name, user_name, user_password):\n",
    "    connection = None\n",
    "    \n",
    "    try:\n",
    "        connection = mysql.connector.connect(\n",
    "            host=host_name,\n",
    "            user=user_name,\n",
    "            passwd=user_password\n",
    "        )\n",
    "        \n",
    "        print(\"Connection to MySQL DB successful\")\n",
    "    except Error as e:\n",
    "        print(f\"The error '{e}' occurred\")\n",
    "\n",
    "    return connection"
   ]
  },
  {
   "cell_type": "code",
   "execution_count": 5,
   "metadata": {},
   "outputs": [],
   "source": [
    "def execute_query(connection, query):\n",
    "    cursor = connection.cursor()\n",
    "    \n",
    "    try:\n",
    "        cursor.execute(query)\n",
    "        connection.commit()\n",
    "    except Error as e:\n",
    "        print(f\"The error '{e}' occurred\")\n",
    "        print(f'Query with error: {query}')"
   ]
  },
  {
   "cell_type": "code",
   "execution_count": 6,
   "metadata": {},
   "outputs": [],
   "source": [
    "def insert_dimensao_orgao(dados_despesa, connection):\n",
    "    dimensao_orgao = pd.DataFrame({\n",
    "        'cod_orgao_superior':dados_despesa['Código Órgão Superior'],\n",
    "        'nome_orgao_superior':dados_despesa['Nome Órgão Superior'],\n",
    "        'cod_orgao_subordinado':dados_despesa['Código Órgão Subordinado'],\n",
    "        'nome_orgao_subordinado':dados_despesa['Nome Órgão Subordinado'],\n",
    "        'cod_unidade_orcamentaria':dados_despesa['Código Unidade Orçamentária'],\n",
    "        'nome_unidade_orcamentaria':dados_despesa['Nome Unidade Orçamentária']\n",
    "    })\n",
    "\n",
    "    for i in range(dimensao_orgao.shape[0]):\n",
    "        insert_dimensao_orgao = f\"\"\"\n",
    "        INSERT INTO orcamento_publico.TD_ORGAO\n",
    "        (\n",
    "            COD_ORGAO_SUPERIOR\n",
    "        ,\tNOME_ORGAO_SUPERIOR\n",
    "        ,\tCOD_ORGAO_SUBORDINADO\n",
    "        ,\tNOME_ORGAO_SUBORDINADO\n",
    "        ,\tCOD_UNIDADE_ORCAMENTARIA\n",
    "        ,\tNOME_UNIDADE_ORCAMENTARIA\n",
    "        ,\tDATA_CRIACAO\n",
    "        )\n",
    "        VALUES\n",
    "        (\n",
    "            {dimensao_orgao.loc[i]['cod_orgao_superior']}\n",
    "        ,   '{dimensao_orgao.loc[i]['nome_orgao_superior']}'\n",
    "        ,   {dimensao_orgao.loc[i]['cod_orgao_subordinado']}\n",
    "        ,   '{dimensao_orgao.loc[i]['nome_orgao_subordinado']}'\n",
    "        ,   {dimensao_orgao.loc[i]['cod_unidade_orcamentaria']}\n",
    "        ,   '{dimensao_orgao.loc[i]['nome_unidade_orcamentaria']}'\n",
    "        ,   NOW()\n",
    "        );\"\"\"\n",
    "\n",
    "        execute_query(connection, insert_dimensao_orgao)"
   ]
  },
  {
   "cell_type": "code",
   "execution_count": 7,
   "metadata": {},
   "outputs": [],
   "source": [
    "def insert_dimensao_programa(dados_despesa, connection):\n",
    "    dimensao_programa = pd.DataFrame({\n",
    "        'cod_programa_orcamentario':dados_despesa['Código Programa Orçamentário'],\n",
    "        'nome_programa_orcamentario':dados_despesa['Nome Programa Orçamentário'],\n",
    "        'cod_acao':dados_despesa['Código Ação'],\n",
    "        'nome_acao':dados_despesa['Nome Ação']\n",
    "    })\n",
    "    \n",
    "    for i in range(dimensao_programa.shape[0]):\n",
    "        insert_dimensao_programa = f\"\"\"\n",
    "        INSERT INTO ORCAMENTO_PUBLICO.TD_PROGRAMA(Cod_Programa_Orcamentario, Nome_Programa_Orcamentario, Cod_Acao, Nome_Acao, Data_Criacao)\n",
    "        VALUES(\n",
    "            {dimensao_programa.loc[i]['cod_programa_orcamentario']}\n",
    "            , '{dimensao_programa.loc[i]['nome_programa_orcamentario']}'\n",
    "            , '{dimensao_programa.loc[i]['cod_acao']}'\n",
    "            , '{dimensao_programa.loc[i]['nome_acao']}'\n",
    "            , NOW()\n",
    "        );\n",
    "        \"\"\"\n",
    "        \n",
    "        execute_query(connection, insert_dimensao_programa)"
   ]
  },
  {
   "cell_type": "code",
   "execution_count": 8,
   "metadata": {},
   "outputs": [],
   "source": [
    "def insert_dimensao_data(mes, ano, connection):\n",
    "    insert_dimensao_data = f\"\"\"\n",
    "    INSERT INTO orcamento_publico.TD_DATA\n",
    "    (\n",
    "        MES\n",
    "    ,\tANO\n",
    "    ,\tDATA_CRIACAO\n",
    "    )\n",
    "    VALUES\n",
    "    (\n",
    "        {mes}\n",
    "    ,   {ano}\n",
    "    ,   NOW()\n",
    "    );\n",
    "    \"\"\"\n",
    "    \n",
    "    execute_query(connection, insert_dimensao_data)"
   ]
  },
  {
   "cell_type": "code",
   "execution_count": 9,
   "metadata": {},
   "outputs": [],
   "source": [
    "def insert_dimensao_area_atuacao(dados_orcamento_despesa, connection):\n",
    "    dados_orcamento = pd.DataFrame({\n",
    "        'cod_funcao':dados_orcamento_despesa['CÓDIGO FUNÇÃO'],\n",
    "        'nome_funcao':dados_orcamento_despesa['NOME FUNÇÃO'],\n",
    "        'cod_sub_funcao':dados_orcamento_despesa['CÓDIGO SUBFUNÇÃO'],\n",
    "        'nome_sub_funcao':dados_orcamento_despesa['NOME SUBFUNÇÃO']\n",
    "    })\n",
    "    \n",
    "    for i in range(dados_orcamento.shape[0]):\n",
    "        insert_dimensao_area_atuacao = f\"\"\"\n",
    "        INSERT INTO orcamento_publico.TD_AREA_ATUACAO\n",
    "        (\n",
    "            COD_FUNCAO\n",
    "        ,\tNOME_FUNCAO\n",
    "        ,\tCOD_SUB_FUNCAO\n",
    "        ,\tNOME_SUB_FUNCAO\n",
    "        ,\tDATA_CRIACAO\n",
    "        )\n",
    "        VALUES\n",
    "        (\n",
    "         {dados_orcamento.loc[i]['cod_funcao']},\n",
    "         '{dados_orcamento.loc[i]['nome_funcao']}',\n",
    "         {dados_orcamento.loc[i]['cod_sub_funcao']},\n",
    "         '{dados_orcamento.loc[i]['nome_sub_funcao']}',\n",
    "         NOW()\n",
    "        );\n",
    "        \"\"\"\n",
    "\n",
    "        execute_query(connection, insert_dimensao_area_atuacao)"
   ]
  },
  {
   "cell_type": "code",
   "execution_count": 10,
   "metadata": {},
   "outputs": [],
   "source": [
    "mysql_host_name = '127.0.0.1'\n",
    "mysql_user_name = 'mateus'\n",
    "mysql_password = 'root123'"
   ]
  },
  {
   "cell_type": "code",
   "execution_count": 11,
   "metadata": {},
   "outputs": [
    {
     "name": "stdout",
     "output_type": "stream",
     "text": [
      "Connection to MySQL DB successful\n"
     ]
    }
   ],
   "source": [
    "connection = create_connection(mysql_host_name, mysql_user_name, mysql_password)"
   ]
  },
  {
   "cell_type": "code",
   "execution_count": 12,
   "metadata": {},
   "outputs": [],
   "source": [
    "path_dados = '../Datas'"
   ]
  },
  {
   "cell_type": "code",
   "execution_count": 13,
   "metadata": {},
   "outputs": [],
   "source": [
    "path_despesa = f'{path_dados}/Despesas'\n",
    "\n",
    "arquivos = get_files_from_path(path_despesa)"
   ]
  },
  {
   "cell_type": "code",
   "execution_count": 14,
   "metadata": {},
   "outputs": [
    {
     "name": "stdout",
     "output_type": "stream",
     "text": [
      "The error '1064 (42000): You have an error in your SQL syntax; check the manual that corresponds to your MySQL server version for the right syntax to use near 'SANEAMENTO EM ESCOLAS''\n",
      "            , NOW()\n",
      "        )' at line 6' occurred\n",
      "Query with error: \n",
      "        INSERT INTO ORCAMENTO_PUBLICO.TD_PROGRAMA(Cod_Programa_Orcamentario, Nome_Programa_Orcamentario, Cod_Acao, Nome_Acao, Data_Criacao)\n",
      "        VALUES(\n",
      "            1287\n",
      "            , 'SANEAMENTO RURAL'\n",
      "            , '10GC'\n",
      "            , 'IMPLANTAÇÃO E MELHORIA DE SERVIÇOS DE SANEAMENTO EM ESCOLAS PÚBLICAS RURAIS - 'SANEAMENTO EM ESCOLAS''\n",
      "            , NOW()\n",
      "        );\n",
      "        \n"
     ]
    },
    {
     "name": "stderr",
     "output_type": "stream",
     "text": [
      "c:\\program files (x86)\\python38-32\\lib\\site-packages\\IPython\\core\\interactiveshell.py:3062: DtypeWarning: Columns (21) have mixed types.Specify dtype option on import or set low_memory=False.\n",
      "  has_raised = await self.run_ast_nodes(code_ast.body, cell_name,\n"
     ]
    },
    {
     "name": "stdout",
     "output_type": "stream",
     "text": [
      "The error '1064 (42000): You have an error in your SQL syntax; check the manual that corresponds to your MySQL server version for the right syntax to use near 'SANEAMENTO EM ESCOLAS''\n",
      "            , NOW()\n",
      "        )' at line 6' occurred\n",
      "Query with error: \n",
      "        INSERT INTO ORCAMENTO_PUBLICO.TD_PROGRAMA(Cod_Programa_Orcamentario, Nome_Programa_Orcamentario, Cod_Acao, Nome_Acao, Data_Criacao)\n",
      "        VALUES(\n",
      "            1287\n",
      "            , 'SANEAMENTO RURAL'\n",
      "            , '10GC'\n",
      "            , 'IMPLANTAÇÃO E MELHORIA DE SERVIÇOS DE SANEAMENTO EM ESCOLAS PÚBLICAS RURAIS - 'SANEAMENTO EM ESCOLAS''\n",
      "            , NOW()\n",
      "        );\n",
      "        \n",
      "The error '1064 (42000): You have an error in your SQL syntax; check the manual that corresponds to your MySQL server version for the right syntax to use near 'SANEAMENTO EM ESCOLAS''\n",
      "            , NOW()\n",
      "        )' at line 6' occurred\n",
      "Query with error: \n",
      "        INSERT INTO ORCAMENTO_PUBLICO.TD_PROGRAMA(Cod_Programa_Orcamentario, Nome_Programa_Orcamentario, Cod_Acao, Nome_Acao, Data_Criacao)\n",
      "        VALUES(\n",
      "            1287\n",
      "            , 'SANEAMENTO RURAL'\n",
      "            , '10GC'\n",
      "            , 'IMPLANTAÇÃO E MELHORIA DE SERVIÇOS DE SANEAMENTO EM ESCOLAS PÚBLICAS RURAIS - 'SANEAMENTO EM ESCOLAS''\n",
      "            , NOW()\n",
      "        );\n",
      "        \n",
      "The error '1064 (42000): You have an error in your SQL syntax; check the manual that corresponds to your MySQL server version for the right syntax to use near 'SANEAMENTO EM ESCOLAS''\n",
      "            , NOW()\n",
      "        )' at line 6' occurred\n",
      "Query with error: \n",
      "        INSERT INTO ORCAMENTO_PUBLICO.TD_PROGRAMA(Cod_Programa_Orcamentario, Nome_Programa_Orcamentario, Cod_Acao, Nome_Acao, Data_Criacao)\n",
      "        VALUES(\n",
      "            1287\n",
      "            , 'SANEAMENTO RURAL'\n",
      "            , '10GC'\n",
      "            , 'IMPLANTAÇÃO E MELHORIA DE SERVIÇOS DE SANEAMENTO EM ESCOLAS PÚBLICAS RURAIS - 'SANEAMENTO EM ESCOLAS''\n",
      "            , NOW()\n",
      "        );\n",
      "        \n"
     ]
    }
   ],
   "source": [
    "for arquivo in arquivos:\n",
    "    dados_despesa = pd.read_csv(f'{path_despesa}/{arquivo}', sep=';', encoding='mbcs')\n",
    "    \n",
    "    match = regex.match('(?P<ano>\\d{4})(?P<mes>\\d{2})', arquivo)\n",
    "    ano = match.group('ano')\n",
    "    mes = match.group('mes')\n",
    "    \n",
    "    insert_dimensao_data(mes, ano, connection)\n",
    "    insert_dimensao_orgao(dados_despesa, connection)\n",
    "    insert_dimensao_programa(dados_despesa, connection)"
   ]
  },
  {
   "cell_type": "code",
   "execution_count": 15,
   "metadata": {},
   "outputs": [],
   "source": [
    "path_orcamento_despesas = f'{path_dados}/OrcamentoDespesas'\n",
    "\n",
    "arquivos = get_files_from_path(path_orcamento_despesas)"
   ]
  },
  {
   "cell_type": "code",
   "execution_count": 16,
   "metadata": {},
   "outputs": [
    {
     "name": "stdout",
     "output_type": "stream",
     "text": [
      "(26445, 24)\n"
     ]
    }
   ],
   "source": [
    "for arquivo in arquivos:\n",
    "    dados_orcamento_despesa = pd.read_csv(f'{path_orcamento_despesas}/{arquivo}', sep=';', encoding='mbcs')\n",
    "    \n",
    "    insert_dimensao_area_atuacao(dados_orcamento_despesa, connection)"
   ]
  }
 ],
 "metadata": {
  "kernelspec": {
   "display_name": "Python 3",
   "language": "python",
   "name": "python3"
  },
  "language_info": {
   "codemirror_mode": {
    "name": "ipython",
    "version": 3
   },
   "file_extension": ".py",
   "mimetype": "text/x-python",
   "name": "python",
   "nbconvert_exporter": "python",
   "pygments_lexer": "ipython3",
   "version": "3.8.2"
  }
 },
 "nbformat": 4,
 "nbformat_minor": 4
}
